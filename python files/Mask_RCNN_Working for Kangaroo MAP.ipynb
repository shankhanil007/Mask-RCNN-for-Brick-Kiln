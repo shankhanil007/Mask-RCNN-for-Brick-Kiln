{
  "nbformat": 4,
  "nbformat_minor": 0,
  "metadata": {
    "accelerator": "GPU",
    "colab": {
      "name": "Mask_RCNN_Working.ipynb",
      "provenance": []
    },
    "kernelspec": {
      "display_name": "Python 3",
      "language": "python",
      "name": "python3"
    },
    "language_info": {
      "codemirror_mode": {
        "name": "ipython",
        "version": 3
      },
      "file_extension": ".py",
      "mimetype": "text/x-python",
      "name": "python",
      "nbconvert_exporter": "python",
      "pygments_lexer": "ipython3",
      "version": "3.8.5"
    }
  },
  "cells": [
    {
      "cell_type": "markdown",
      "metadata": {
        "id": "zeNbCbgOiImu"
      },
      "source": [
        "# Mask R-CNN Demo\n",
        "\n",
        "A quick intro to using the pre-trained model to detect and segment objects."
      ]
    },
    {
      "cell_type": "code",
      "metadata": {
        "id": "0nOZRftpiZpT",
        "colab": {
          "base_uri": "https://localhost:8080/"
        },
        "outputId": "639846c3-4e9c-4081-d0ff-ef4d3f8a0ebd"
      },
      "source": [
        "!git clone https://github.com/matterport/Mask_RCNN.git"
      ],
      "execution_count": 1,
      "outputs": [
        {
          "output_type": "stream",
          "text": [
            "Cloning into 'Mask_RCNN'...\n",
            "remote: Enumerating objects: 956, done.\u001b[K\n",
            "remote: Total 956 (delta 0), reused 0 (delta 0), pack-reused 956\u001b[K\n",
            "Receiving objects: 100% (956/956), 125.23 MiB | 40.26 MiB/s, done.\n",
            "Resolving deltas: 100% (560/560), done.\n"
          ],
          "name": "stdout"
        }
      ]
    },
    {
      "cell_type": "code",
      "metadata": {
        "colab": {
          "base_uri": "https://localhost:8080/"
        },
        "id": "JBGzyzcIW2MY",
        "outputId": "a593e63a-4eac-4630-cf7d-9ebf93a2df89"
      },
      "source": [
        "!git clone https://github.com/experiencor/kangaroo.git"
      ],
      "execution_count": 2,
      "outputs": [
        {
          "output_type": "stream",
          "text": [
            "Cloning into 'kangaroo'...\n",
            "remote: Enumerating objects: 334, done.\u001b[K\n",
            "remote: Total 334 (delta 0), reused 0 (delta 0), pack-reused 334\u001b[K\n",
            "Receiving objects: 100% (334/334), 18.39 MiB | 49.16 MiB/s, done.\n",
            "Resolving deltas: 100% (158/158), done.\n"
          ],
          "name": "stdout"
        }
      ]
    },
    {
      "cell_type": "code",
      "metadata": {
        "id": "43B39wqLiuT0"
      },
      "source": [
        "import os\n",
        "os.chdir(\"Mask_RCNN/samples\")"
      ],
      "execution_count": 3,
      "outputs": []
    },
    {
      "cell_type": "code",
      "metadata": {
        "id": "DxaA2L6NkNgX",
        "colab": {
          "base_uri": "https://localhost:8080/"
        },
        "outputId": "ed8a35be-b61e-482d-9ef6-97072e74a315"
      },
      "source": [
        "%tensorflow_version 1.x\n",
        "import tensorflow\n",
        "print(tensorflow.__version__)"
      ],
      "execution_count": 4,
      "outputs": [
        {
          "output_type": "stream",
          "text": [
            "TensorFlow 1.x selected.\n",
            "1.15.2\n"
          ],
          "name": "stdout"
        }
      ]
    },
    {
      "cell_type": "code",
      "metadata": {
        "id": "IMp59vn7iIm3"
      },
      "source": [
        "import sys\n",
        "import random\n",
        "import math\n",
        "import numpy as np\n",
        "import skimage.io\n",
        "import matplotlib\n",
        "import matplotlib.pyplot as plt\n",
        "\n",
        "# Root directory of the project\n",
        "ROOT_DIR = os.path.abspath(\"../\")\n",
        "\n",
        "# Import Mask RCNN\n",
        "sys.path.append(ROOT_DIR)  # To find local version of the library\n",
        "from mrcnn import utils\n",
        "import mrcnn.model as modellib\n",
        "from mrcnn import visualize\n",
        "# Import COCO config\n",
        "sys.path.append(os.path.join(ROOT_DIR, \"samples/coco/\"))  # To find local version\n",
        "import coco\n",
        "\n",
        "%matplotlib inline \n",
        "\n",
        "# Directory to save logs and trained model\n",
        "MODEL_DIR = os.path.join(ROOT_DIR, \"logs\")\n",
        "\n",
        "# Local path to trained weights file\n",
        "COCO_MODEL_PATH = os.path.join(ROOT_DIR, \"mask_rcnn_coco.h5\")\n",
        "# Download COCO trained weights from Releases if needed\n",
        "if not os.path.exists(COCO_MODEL_PATH):\n",
        "    utils.download_trained_weights(COCO_MODEL_PATH)\n",
        "\n",
        "# Directory of images to run detection on\n",
        "IMAGE_DIR = os.path.join(ROOT_DIR, \"images\")"
      ],
      "execution_count": null,
      "outputs": []
    },
    {
      "cell_type": "markdown",
      "metadata": {
        "id": "k4TVS7ZCiIm7"
      },
      "source": [
        "## Configurations\n",
        "\n",
        "We'll be using a model trained on the MS-COCO dataset. The configurations of this model are in the ```CocoConfig``` class in ```coco.py```.\n",
        "\n",
        "For inferencing, modify the configurations a bit to fit the task. To do so, sub-class the ```CocoConfig``` class and override the attributes you need to change."
      ]
    },
    {
      "cell_type": "code",
      "metadata": {
        "id": "VQKKvlwIiIm7"
      },
      "source": [
        "class InferenceConfig(coco.CocoConfig):\n",
        "    # Set batch size to 1 since we'll be running inference on\n",
        "    # one image at a time. Batch size = GPU_COUNT * IMAGES_PER_GPU\n",
        "    GPU_COUNT = 1\n",
        "    IMAGES_PER_GPU = 1\n",
        "\n",
        "config = InferenceConfig()\n",
        "config.display()"
      ],
      "execution_count": null,
      "outputs": []
    },
    {
      "cell_type": "markdown",
      "metadata": {
        "id": "FkiaotYviIm7"
      },
      "source": [
        "## Create Model and Load Trained Weights"
      ]
    },
    {
      "cell_type": "code",
      "metadata": {
        "id": "WX0KN8jUiIm8",
        "scrolled": false
      },
      "source": [
        "# Create model object in inference mode.\n",
        "model = modellib.MaskRCNN(mode=\"inference\", model_dir=MODEL_DIR, config=config)\n",
        "\n",
        "# Load weights trained on MS-COCO\n",
        "model.load_weights(COCO_MODEL_PATH, by_name=True)"
      ],
      "execution_count": null,
      "outputs": []
    },
    {
      "cell_type": "markdown",
      "metadata": {
        "id": "N6Rk3RzliIm8"
      },
      "source": [
        "## Class Names\n",
        "\n",
        "The model classifies objects and returns class IDs, which are integer value that identify each class. Some datasets assign integer values to their classes and some don't. For example, in the MS-COCO dataset, the 'person' class is 1 and 'teddy bear' is 88. The IDs are often sequential, but not always. The COCO dataset, for example, has classes associated with class IDs 70 and 72, but not 71.\n",
        "\n",
        "To improve consistency, and to support training on data from multiple sources at the same time, our ```Dataset``` class assigns it's own sequential integer IDs to each class. For example, if you load the COCO dataset using our ```Dataset``` class, the 'person' class would get class ID = 1 (just like COCO) and the 'teddy bear' class is 78 (different from COCO). Keep that in mind when mapping class IDs to class names.\n",
        "\n",
        "To get the list of class names, you'd load the dataset and then use the ```class_names``` property like this.\n",
        "```\n",
        "# Load COCO dataset\n",
        "dataset = coco.CocoDataset()\n",
        "dataset.load_coco(COCO_DIR, \"train\")\n",
        "dataset.prepare()\n",
        "\n",
        "# Print class names\n",
        "print(dataset.class_names)\n",
        "```\n",
        "\n",
        "We don't want to require you to download the COCO dataset just to run this demo, so we're including the list of class names below. The index of the class name in the list represent its ID (first class is 0, second is 1, third is 2, ...etc.)"
      ]
    },
    {
      "cell_type": "code",
      "metadata": {
        "id": "PznVlUMeiIm8"
      },
      "source": [
        "# COCO Class names\n",
        "# Index of the class in the list is its ID. For example, to get ID of\n",
        "# the teddy bear class, use: class_names.index('teddy bear')\n",
        "class_names = ['BG', 'person', 'bicycle', 'car', 'motorcycle', 'airplane',\n",
        "               'bus', 'train', 'truck', 'boat', 'traffic light',\n",
        "               'fire hydrant', 'stop sign', 'parking meter', 'bench', 'bird',\n",
        "               'cat', 'dog', 'horse', 'sheep', 'cow', 'elephant', 'bear',\n",
        "               'zebra', 'giraffe', 'backpack', 'umbrella', 'handbag', 'tie',\n",
        "               'suitcase', 'frisbee', 'skis', 'snowboard', 'sports ball',\n",
        "               'kite', 'baseball bat', 'baseball glove', 'skateboard',\n",
        "               'surfboard', 'tennis racket', 'bottle', 'wine glass', 'cup',\n",
        "               'fork', 'knife', 'spoon', 'bowl', 'banana', 'apple',\n",
        "               'sandwich', 'orange', 'broccoli', 'carrot', 'hot dog', 'pizza',\n",
        "               'donut', 'cake', 'chair', 'couch', 'potted plant', 'bed',\n",
        "               'dining table', 'toilet', 'tv', 'laptop', 'mouse', 'remote',\n",
        "               'keyboard', 'cell phone', 'microwave', 'oven', 'toaster',\n",
        "               'sink', 'refrigerator', 'book', 'clock', 'vase', 'scissors',\n",
        "               'teddy bear', 'hair drier', 'toothbrush']"
      ],
      "execution_count": null,
      "outputs": []
    },
    {
      "cell_type": "markdown",
      "metadata": {
        "id": "oYjukZ3viIm9"
      },
      "source": [
        "## Run Object Detection"
      ]
    },
    {
      "cell_type": "code",
      "metadata": {
        "id": "LyUIkxuMiIm9",
        "scrolled": false
      },
      "source": [
        "# Load a random image from the images folder\n",
        "file_names = next(os.walk(IMAGE_DIR))[2]\n",
        "image = skimage.io.imread(os.path.join(IMAGE_DIR, 'WhatsApp Image 2020-12-28 at 7.29.20 PM.jpeg'))\n",
        "\n",
        "# Run detection\n",
        "results = model.detect([image], verbose=1)\n",
        "\n",
        "# Visualize results\n",
        "r = results[0]\n",
        "visualize.display_instances(image, r['rois'], r['masks'], r['class_ids'], \n",
        "                            class_names, r['scores'])"
      ],
      "execution_count": null,
      "outputs": []
    },
    {
      "cell_type": "code",
      "metadata": {
        "id": "heJKnFNemURw"
      },
      "source": [
        "import cv2\n",
        "from google.colab.patches import cv2_imshow\n",
        "# ROOT_DIR = os.path.abspath(\"./\")\n",
        "\n",
        "# # Import Mask RCNN\n",
        "# sys.path.append(ROOT_DIR)  # To find local version of the library\n",
        "import coco\n",
        "\n",
        "\n",
        "\n",
        "ROOT_DIR = os.getcwd()\n",
        "MODEL_DIR = os.path.join(ROOT_DIR, \"logs\")\n",
        "COCO_MODEL_PATH = os.path.join(ROOT_DIR, \"mask_rcnn_coco.h5\")\n",
        "if not os.path.exists(COCO_MODEL_PATH):\n",
        "    utils.download_trained_weights(COCO_MODEL_PATH)\n",
        "\n",
        "\n",
        "class InferenceConfig(coco.CocoConfig):\n",
        "    GPU_COUNT = 1\n",
        "    IMAGES_PER_GPU = 1\n",
        "\n",
        "\n",
        "config = InferenceConfig()\n",
        "config.display()\n",
        "\n",
        "model = modellib.MaskRCNN(\n",
        "    mode=\"inference\", model_dir=MODEL_DIR, config=config\n",
        ")\n",
        "model.load_weights(COCO_MODEL_PATH, by_name=True)\n",
        "class_names = [\n",
        "    'BG', 'person', 'bicycle', 'car', 'motorcycle', 'airplane',\n",
        "    'bus', 'train', 'truck', 'boat', 'traffic light',\n",
        "    'fire hydrant', 'stop sign', 'parking meter', 'bench', 'bird',\n",
        "    'cat', 'dog', 'horse', 'sheep', 'cow', 'elephant', 'bear',\n",
        "    'zebra', 'giraffe', 'backpack', 'umbrella', 'handbag', 'tie',\n",
        "    'suitcase', 'frisbee', 'skis', 'snowboard', 'sports ball',\n",
        "    'kite', 'baseball bat', 'baseball glove', 'skateboard',\n",
        "    'surfboard', 'tennis racket', 'bottle', 'wine glass', 'cup',\n",
        "    'fork', 'knife', 'spoon', 'bowl', 'banana', 'apple',\n",
        "    'sandwich', 'orange', 'broccoli', 'carrot', 'hot dog', 'pizza',\n",
        "    'donut', 'cake', 'chair', 'couch', 'potted plant', 'bed',\n",
        "    'dining table', 'toilet', 'tv', 'laptop', 'mouse', 'remote',\n",
        "    'keyboard', 'cell phone', 'microwave', 'oven', 'toaster',\n",
        "    'sink', 'refrigerator', 'book', 'clock', 'vase', 'scissors',\n",
        "    'teddy bear', 'hair drier', 'toothbrush'\n",
        "]\n",
        "\n",
        "\n",
        "def random_colors(N):\n",
        "    np.random.seed(1)\n",
        "    colors = [tuple(255 * np.random.rand(3)) for _ in range(N)]\n",
        "    return colors\n",
        "\n",
        "\n",
        "colors = random_colors(len(class_names))\n",
        "class_dict = {\n",
        "    name: color for name, color in zip(class_names, colors)\n",
        "}\n",
        "\n",
        "\n",
        "def apply_mask(image, mask, color, alpha=0.5):\n",
        "    \"\"\"apply mask to image\"\"\"\n",
        "    for n, c in enumerate(color):\n",
        "        image[:, :, n] = np.where(\n",
        "            mask == 1,\n",
        "            image[:, :, n] * (1 - alpha) + alpha * c,\n",
        "            image[:, :, n]\n",
        "        )\n",
        "    return image\n",
        "\n",
        "\n",
        "def display_instances(image, boxes, masks, ids, names, scores):\n",
        "    \"\"\"\n",
        "        take the image and results and apply the mask, box, and Label\n",
        "    \"\"\"\n",
        "    n_instances = boxes.shape[0]\n",
        "\n",
        "    if not n_instances:\n",
        "        print('NO INSTANCES TO DISPLAY')\n",
        "    else:\n",
        "        assert boxes.shape[0] == masks.shape[-1] == ids.shape[0]\n",
        "\n",
        "    for i in range(n_instances):\n",
        "        if not np.any(boxes[i]):\n",
        "            continue\n",
        "\n",
        "        y1, x1, y2, x2 = boxes[i]\n",
        "        label = names[ids[i]]\n",
        "        color = class_dict[label]\n",
        "        score = scores[i] if scores is not None else None\n",
        "        caption = '{} {:.2f}'.format(label, score) if score else label\n",
        "        mask = masks[:, :, i]\n",
        "\n",
        "        image = apply_mask(image, mask, color)\n",
        "\n",
        "        image = cv2.rectangle(image, (x1, y1), (x2, y2), color, 2)\n",
        "        image = cv2.putText(\n",
        "            image, caption, (x1, y1), cv2.FONT_HERSHEY_COMPLEX, 0.7, color, 2\n",
        "        )\n",
        "\n",
        "    return image\n",
        "\n",
        "\n",
        "if __name__ == '__main__':\n",
        "    \"\"\"\n",
        "        test everything\n",
        "    \"\"\"\n",
        "\n",
        "    capture = cv2.VideoCapture(\"traffic-mini.mp4\")\n",
        "\n",
        "    # these 2 lines can be removed if you dont have a 1080p camera.\n",
        "    capture.set(cv2.CAP_PROP_FRAME_WIDTH, 1920)\n",
        "    capture.set(cv2.CAP_PROP_FRAME_HEIGHT, 1080)\n",
        "    frame_width = int(capture.get(3))\n",
        "    frame_height = int(capture.get(4))\n",
        "    out = cv2.VideoWriter('mask_gta.avi',cv2.VideoWriter_fourcc('M','J','P','G'), 10, (frame_width,frame_height))\n",
        "\n",
        "\n",
        "    while True:\n",
        "        ret, frame = capture.read()\n",
        "        results = model.detect([frame], verbose=0)\n",
        "        r = results[0]\n",
        "        frame = display_instances(\n",
        "            frame, r['rois'], r['masks'], r['class_ids'], class_names, r['scores']\n",
        "        )\n",
        " #       frame = cv2.cvtColor(frame,cv2.COLOR_RGB2BGR)\n",
        "        cv2_imshow(frame)\n",
        "        out.write(frame)\n",
        "        \n",
        "        if cv2.waitKey(1) & 0xFF == ord('q'):\n",
        "            break\n",
        "\n",
        "    capture.release()\n",
        "    cv2.destroyAllWindows()"
      ],
      "execution_count": null,
      "outputs": []
    },
    {
      "cell_type": "code",
      "metadata": {
        "id": "34IjqZluiIm9"
      },
      "source": [
        ""
      ],
      "execution_count": null,
      "outputs": []
    },
    {
      "cell_type": "markdown",
      "metadata": {
        "id": "KYIBzE3-Xao2"
      },
      "source": [
        "# BRICK KILN"
      ]
    },
    {
      "cell_type": "code",
      "metadata": {
        "colab": {
          "base_uri": "https://localhost:8080/"
        },
        "id": "4ws-zjDyXemq",
        "outputId": "1def8027-0df0-4ef7-c596-8ad0a4b6956d"
      },
      "source": [
        "import sys\r\n",
        "ROOT_DIR = os.path.abspath(\"../\")\r\n",
        "sys.path.append(ROOT_DIR)\r\n",
        "\r\n",
        "# images_dir =  os.path.join(ROOT_DIR, \"kangaroo/images/\")\r\n",
        "# annotations_dir = os.path.join(ROOT_DIR, \"kangaroo/annots/\")\r\n",
        "\r\n",
        "\r\n",
        "\r\n",
        "from os import listdir\r\n",
        "from xml.etree import ElementTree\r\n",
        "from numpy import zeros\r\n",
        "from numpy import asarray\r\n",
        "from numpy import expand_dims\r\n",
        "from numpy import mean\r\n",
        "from mrcnn.config import Config\r\n",
        "from mrcnn.model import MaskRCNN\r\n",
        "from mrcnn.utils import Dataset\r\n",
        "from mrcnn.utils import compute_ap\r\n",
        "from mrcnn.model import load_image_gt\r\n",
        "from mrcnn.model import mold_image\r\n",
        "from mrcnn import utils\r\n",
        " \r\n",
        "# class that defines and loads the kangaroo dataset\r\n",
        "class KangarooDataset(Dataset):\r\n",
        "\t# load the dataset definitions\r\n",
        "\tdef load_dataset(self, dataset_dir, is_train=True):\r\n",
        "\t\t# define one class\r\n",
        "\t\tself.add_class(\"dataset\", 1, \"kangaroo\")\r\n",
        "\t\t# define data locations\r\n",
        "\t\timages_dir = os.path.join(ROOT_DIR, \"kangaroo/images/\")\r\n",
        "\t\tannotations_dir = os.path.join(ROOT_DIR, \"kangaroo/annots/\")\r\n",
        "\t\t# find all images\r\n",
        "\t\tfor filename in listdir(images_dir):\r\n",
        "\t\t\t# extract image id\r\n",
        "\t\t\timage_id = filename[:-4]\r\n",
        "\t\t\t# skip bad images\r\n",
        "\t\t\tif image_id in ['00090']:\r\n",
        "\t\t\t\tcontinue\r\n",
        "\t\t\t# skip all images after 150 if we are building the train set\r\n",
        "\t\t\tif is_train and int(image_id) >= 150:\r\n",
        "\t\t\t\tcontinue\r\n",
        "\t\t\t# skip all images before 150 if we are building the test/val set\r\n",
        "\t\t\tif not is_train and int(image_id) < 150:\r\n",
        "\t\t\t\tcontinue\r\n",
        "\t\t\timg_path = images_dir + filename\r\n",
        "\t\t\tann_path = annotations_dir + image_id + '.xml'\r\n",
        "\t\t\t# add to dataset\r\n",
        "\t\t\tself.add_image('dataset', image_id=image_id, path=img_path, annotation=ann_path)\r\n",
        " \r\n",
        "\t# extract bounding boxes from an annotation file\r\n",
        "\tdef extract_boxes(self, filename):\r\n",
        "\t\t# load and parse the file\r\n",
        "\t\ttree = ElementTree.parse(filename)\r\n",
        "\t\t# get the root of the document\r\n",
        "\t\troot = tree.getroot()\r\n",
        "\t\t# extract each bounding box\r\n",
        "\t\tboxes = list()\r\n",
        "\t\tfor box in root.findall('.//bndbox'):\r\n",
        "\t\t\txmin = int(box.find('xmin').text)\r\n",
        "\t\t\tymin = int(box.find('ymin').text)\r\n",
        "\t\t\txmax = int(box.find('xmax').text)\r\n",
        "\t\t\tymax = int(box.find('ymax').text)\r\n",
        "\t\t\tcoors = [xmin, ymin, xmax, ymax]\r\n",
        "\t\t\tboxes.append(coors)\r\n",
        "\t\t# extract image dimensions\r\n",
        "\t\twidth = int(root.find('.//size/width').text)\r\n",
        "\t\theight = int(root.find('.//size/height').text)\r\n",
        "\t\treturn boxes, width, height\r\n",
        " \r\n",
        "\t# load the masks for an image\r\n",
        "\tdef load_mask(self, image_id):\r\n",
        "\t\t# get details of image\r\n",
        "\t\tinfo = self.image_info[image_id]\r\n",
        "\t\t# define box file location\r\n",
        "\t\tpath = info['annotation']\r\n",
        "\t\t# load XML\r\n",
        "\t\tboxes, w, h = self.extract_boxes(path)\r\n",
        "\t\t# create one array for all masks, each on a different channel\r\n",
        "\t\tmasks = zeros([h, w, len(boxes)], dtype='uint8')\r\n",
        "\t\t# create masks\r\n",
        "\t\tclass_ids = list()\r\n",
        "\t\tfor i in range(len(boxes)):\r\n",
        "\t\t\tbox = boxes[i]\r\n",
        "\t\t\trow_s, row_e = box[1], box[3]\r\n",
        "\t\t\tcol_s, col_e = box[0], box[2]\r\n",
        "\t\t\tmasks[row_s:row_e, col_s:col_e, i] = 1\r\n",
        "\t\t\tclass_ids.append(self.class_names.index('kangaroo'))\r\n",
        "\t\treturn masks, asarray(class_ids, dtype='int32')\r\n",
        " \r\n",
        "\t# load an image reference\r\n",
        "\tdef image_reference(self, image_id):\r\n",
        "\t\tinfo = self.image_info[image_id]\r\n",
        "\t\treturn info['path']\r\n",
        " \r\n",
        "# define the prediction configuration\r\n",
        "class PredictionConfig(Config):\r\n",
        "\t# define the name of the configuration\r\n",
        "\tNAME = \"kangaroo_cfg\"\r\n",
        "\t# number of classes (background + kangaroo)\r\n",
        "\tNUM_CLASSES = 1 + 1\r\n",
        "\t# simplify GPU config\r\n",
        "\tGPU_COUNT = 1\r\n",
        "\tIMAGES_PER_GPU = 1\r\n",
        " \r\n",
        "# calculate the mAP for a model on a given dataset\r\n",
        "def evaluate_model(dataset, model, cfg):\r\n",
        "\tAPs = list()\r\n",
        "\tfor image_id in dataset.image_ids:\r\n",
        "\t\t# load image, bounding boxes and masks for the image id\r\n",
        "\t\timage, image_meta, gt_class_id, gt_bbox, gt_mask = load_image_gt(dataset, cfg, image_id, use_mini_mask=False)\r\n",
        "\t\t# convert pixel values (e.g. center)\r\n",
        "\t\tscaled_image = mold_image(image, cfg)\r\n",
        "\t\t# convert image into one sample\r\n",
        "\t\tsample = expand_dims(scaled_image, 0)\r\n",
        "\t\t# make prediction\r\n",
        "\t\tyhat = model.detect(sample, verbose=0)\r\n",
        "\t\t# extract results for first sample\r\n",
        "\t\tr = yhat[0]\r\n",
        "\t\t# calculate statistics, including AP\r\n",
        "\t\tAP, _, _, _ = compute_ap(gt_bbox, gt_class_id, gt_mask, r[\"rois\"], r[\"class_ids\"], r[\"scores\"], r['masks'])\r\n",
        "\t\t# store\r\n",
        "\t\tAPs.append(AP)\r\n",
        "\t# calculate the mean AP across all images\r\n",
        "\tmAP = mean(APs)\r\n",
        "\treturn mAP\r\n",
        " \r\n",
        "# load the train dataset\r\n",
        "train_set = KangarooDataset()\r\n",
        "train_set.load_dataset('kangaroo', is_train=True)\r\n",
        "train_set.prepare()\r\n",
        "print('Train: %d' % len(train_set.image_ids))\r\n",
        "# load the test dataset\r\n",
        "test_set = KangarooDataset()\r\n",
        "test_set.load_dataset('kangaroo', is_train=False)\r\n",
        "test_set.prepare()\r\n",
        "print('Test: %d' % len(test_set.image_ids))\r\n",
        "# create config\r\n",
        "cfg = PredictionConfig()\r\n",
        "# define the model\r\n",
        "MODEL_DIR = os.path.join(ROOT_DIR, \"logs\")\r\n",
        "model = MaskRCNN(mode='inference', model_dir=MODEL_DIR, config=cfg)\r\n",
        "# load model weights\r\n",
        "COCO_MODEL_PATH = os.path.join(ROOT_DIR, \"mask_rcnn_kangaroo_cfg_0005.h5\")\r\n",
        "# Download COCO trained weights from Releases if needed\r\n",
        "if not os.path.exists(COCO_MODEL_PATH):\r\n",
        "    utils.download_trained_weights(COCO_MODEL_PATH)\r\n",
        "model.load_weights(COCO_MODEL_PATH, by_name=True,exclude=[ \"mrcnn_class_logits\", \"mrcnn_bbox_fc\", \"mrcnn_bbox\", \"mrcnn_mask\"])\r\n",
        "\r\n",
        "# evaluate model on training dataset\r\n",
        "train_mAP = evaluate_model(train_set, model, cfg)\r\n",
        "print(\"Train mAP: %.3f\" % train_mAP)\r\n",
        "# evaluate model on test dataset\r\n",
        "test_mAP = evaluate_model(test_set, model, cfg)\r\n",
        "print(\"Test mAP: %.3f\" % test_mAP)"
      ],
      "execution_count": 32,
      "outputs": [
        {
          "output_type": "stream",
          "text": [
            "Train: 131\n",
            "Test: 32\n",
            "Train mAP: 0.003\n",
            "Test mAP: 0.040\n"
          ],
          "name": "stdout"
        }
      ]
    }
  ]
}